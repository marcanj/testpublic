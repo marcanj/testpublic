{
 "cells": [
  {
   "cell_type": "markdown",
   "id": "9b54c881-1a30-46b2-943e-fa47c79628e2",
   "metadata": {},
   "source": [
    "# Data Science Tools and Ecosystem"
   ]
  },
  {
   "cell_type": "markdown",
   "id": "a4f0f60a-2e3e-4adf-9252-36ff8a82348d",
   "metadata": {},
   "source": [
    "## Author: Marcelo Arcanjo"
   ]
  },
  {
   "cell_type": "markdown",
   "id": "770d88f4-7e9f-4b65-894c-3a7cf3cd9077",
   "metadata": {},
   "source": [
    "In this notebook, Data Science Tools and Ecosystem are summarized."
   ]
  },
  {
   "cell_type": "markdown",
   "id": "66d641e1-264c-470d-b11a-8c0c6ad0854e",
   "metadata": {},
   "source": [
    "**Objectives:**"
   ]
  },
  {
   "cell_type": "markdown",
   "id": "052e19ca-1a03-4133-b867-323c49520096",
   "metadata": {
    "tags": []
   },
   "source": [
    "* List popular languages for Data Science\n",
    "* List used libraries for Data Scientists\n",
    "* List Data Science open source tools "
   ]
  },
  {
   "cell_type": "markdown",
   "id": "03de92a5-d831-4891-9592-17d603d6e3e4",
   "metadata": {},
   "source": [
    "Some of the popular languages that Data Scientists use are:\n",
    "1. Python\n",
    "2. R\n",
    "3. SQL\n",
    "4. Java\n",
    "5. Julia\n"
   ]
  },
  {
   "cell_type": "markdown",
   "id": "aa88b6d4-6792-40b7-8bb6-dcb2609e8694",
   "metadata": {},
   "source": [
    "Some of the commonly used libraries used by Data Scientists include:\n",
    "1. NumPy\n",
    "2. Matplotlib\n",
    "3. Pandas\n",
    "4. SciPy\n",
    "5. PyTorch"
   ]
  },
  {
   "cell_type": "markdown",
   "id": "7eecd109-4ec5-4abc-bf59-0c87c9d6c6f4",
   "metadata": {
    "jp-MarkdownHeadingCollapsed": true,
    "tags": []
   },
   "source": [
    "|Data Science Tools|\n",
    "|------------------|\n",
    "|Python|\n",
    "|Jupyter Notebooks|\n",
    "|Apache Spark|"
   ]
  },
  {
   "cell_type": "markdown",
   "id": "71146370-1f10-420f-9e8c-6190dc9ee70e",
   "metadata": {
    "tags": []
   },
   "source": [
    "### Below are a few examples of evaluating arithmetic expressions in Python"
   ]
  },
  {
   "cell_type": "code",
   "execution_count": 2,
   "id": "665dc435-2c41-4df0-b9f4-8462ab7f8bab",
   "metadata": {
    "tags": []
   },
   "outputs": [
    {
     "data": {
      "text/plain": [
       "17"
      ]
     },
     "execution_count": 2,
     "metadata": {},
     "output_type": "execute_result"
    }
   ],
   "source": [
    "#This a simple arithmetic expression to mutiply then add integers\n",
    "\n",
    "(3*4)+5"
   ]
  },
  {
   "cell_type": "code",
   "execution_count": 3,
   "id": "11088f0f-25ad-4ce3-815a-fb00b326c0ee",
   "metadata": {
    "tags": []
   },
   "outputs": [
    {
     "name": "stdout",
     "output_type": "stream",
     "text": [
      "3.3333333333333335\n"
     ]
    }
   ],
   "source": [
    "#This will convert 200 minutes to hours by diving by 60\n",
    "\n",
    "Minutes = 200\n",
    "\n",
    "Hours = Minutes/60\n",
    "\n",
    "print(Hours)"
   ]
  },
  {
   "cell_type": "code",
   "execution_count": null,
   "id": "e3b03ba4-2214-425a-8a0c-11dd26a0cb52",
   "metadata": {},
   "outputs": [],
   "source": []
  }
 ],
 "metadata": {
  "kernelspec": {
   "display_name": "Python",
   "language": "python",
   "name": "conda-env-python-py"
  },
  "language_info": {
   "codemirror_mode": {
    "name": "ipython",
    "version": 3
   },
   "file_extension": ".py",
   "mimetype": "text/x-python",
   "name": "python",
   "nbconvert_exporter": "python",
   "pygments_lexer": "ipython3",
   "version": "3.7.12"
  }
 },
 "nbformat": 4,
 "nbformat_minor": 5
}
